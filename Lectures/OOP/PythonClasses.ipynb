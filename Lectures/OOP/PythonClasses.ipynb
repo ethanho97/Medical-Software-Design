{
 "cells": [
  {
   "cell_type": "markdown",
   "metadata": {},
   "source": [
    "# Python Class Class\n",
    "\n",
    "## Object oriented programming in Python\n",
    "\n",
    "- Relate Python Classes to Modules\n",
    "- How to define a Class\n",
    "- Attributes\n",
    "- Methods\n",
    "- Objects\n",
    "- Delegation\n",
    "  - Inheritance\n",
    "  - Composition"
   ]
  },
  {
   "cell_type": "markdown",
   "metadata": {},
   "source": [
    "## Dictionaries, Modules, and Classes Compared\n",
    "Based on [Ex40][1]\n",
    "[1]: https://learnpythonthehardway.org/book/ex40.html "
   ]
  },
  {
   "cell_type": "code",
   "execution_count": 21,
   "metadata": {},
   "outputs": [
    {
     "name": "stdout",
     "output_type": "stream",
     "text": [
      "myValue1\n",
      "C:\\Users\\dpb6\\Downloads\\repos\\pythonComposition\n"
     ]
    }
   ],
   "source": [
    "import os\n",
    "import sys\n",
    "\n",
    "\n",
    "# Dictionary\n",
    "\n",
    "myDictionary = {'myKey': 'myValue1'}\n",
    "print(myDictionary['myKey'])\n",
    "\n",
    "# Module\n",
    "\n",
    "# Built-in modules\n",
    "print(os.getcwd())"
   ]
  },
  {
   "cell_type": "markdown",
   "metadata": {},
   "source": [
    "### User-written module\n",
    "```python\n",
    "### Begin myModule.py\n",
    "def myFunction():\n",
    "    return 'myReturnValue2'\n",
    "\n",
    "myVariable = 'myValue2'\n",
    "### End myModule.py\n",
    "```"
   ]
  },
  {
   "cell_type": "code",
   "execution_count": 30,
   "metadata": {},
   "outputs": [
    {
     "name": "stdout",
     "output_type": "stream",
     "text": [
      "myReturnValue2\n",
      "myValue2\n"
     ]
    }
   ],
   "source": [
    "# This allows you import the desired function from the module hierarchy:\n",
    "# http://stackoverflow.com/questions/34478398/import-local-function-from-a-module-housed-in-another-directory-with-relative-im\n",
    "module_path = os.path.abspath(os.path.join('..'))\n",
    "\n",
    "if module_path not in sys.path:\n",
    "    sys.path.append(module_path)\n",
    "    \n",
    "import myModule\n",
    "\n",
    "print(myModule.myFunction())\n",
    "print(myModule.myVariable)"
   ]
  },
  {
   "cell_type": "markdown",
   "metadata": {
    "collapsed": true
   },
   "source": [
    "## Define a class\n",
    "\n",
    "- Methods: actions to **do** on / to / with an object of this class\n",
    "- Attribues: the properties / variables / data associated with an object of this class\n",
    "- `__init__` \n",
    "  - Can take multiple arguments, or just the automatic one, traditionally called 'self'.\n",
    "  - A ['magic' method][2] that initializes the class, which is called when a new object is Instantiated (created)\n",
    "  - Sometimes called a 'dunder' for the double-underscores\n",
    "  - Other 'dunders' are `__iter__`, `__call__`, `__new__`, `__del__`, and more.\n",
    "\n",
    "[2]: http://www.rafekettler.com/magicmethods.html\n",
    "\n",
    "See the [Python Docs][3]\n",
    "[3]: https://docs.python.org/3.5/tutorial/classes.html"
   ]
  },
  {
   "cell_type": "code",
   "execution_count": 23,
   "metadata": {
    "collapsed": true
   },
   "outputs": [],
   "source": [
    "class myClass(object):\n",
    "    \"\"\"This is a myClass class.\n",
    "\n",
    "    __init__ sets the myAttribute attribute.\n",
    "\n",
    "    Attributes:\n",
    "        myAttribute (str): string attribute\n",
    "\n",
    "    \"\"\"\n",
    "\n",
    "    def __init__(self, myArgument = 'myDefault'):\n",
    "        self.myAttribute = myArgument\n",
    "\n",
    "    def myMethod(self):\n",
    "        \"\"\" returns a literal string value\n",
    " \n",
    "        :return: literal string [str]\n",
    "        \"\"\"\n",
    "\n",
    "        return 'myReturnValue3'"
   ]
  },
  {
   "cell_type": "markdown",
   "metadata": {},
   "source": [
    "## Object\n",
    "- An Object is an *Instance* (manifestation) of the given Class (template / blueprint)\n",
    "- Objects can be passed to/from functions, etc. (everything in Python is an object!)\n",
    "- Different Objects don't know the contents of each others' Attributes"
   ]
  },
  {
   "cell_type": "code",
   "execution_count": 24,
   "metadata": {},
   "outputs": [
    {
     "name": "stdout",
     "output_type": "stream",
     "text": [
      "myReturnValue3\n",
      "myDefault\n"
     ]
    }
   ],
   "source": [
    "myObject = myClass()\n",
    "print(myObject.myMethod())\n",
    "print(myObject.myAttribute)"
   ]
  },
  {
   "cell_type": "code",
   "execution_count": 25,
   "metadata": {},
   "outputs": [
    {
     "data": {
      "text/plain": [
       "'myDefault'"
      ]
     },
     "execution_count": 25,
     "metadata": {},
     "output_type": "execute_result"
    }
   ],
   "source": [
    "# To recap, different ways to access things of other things:\n",
    "\n",
    "# dict-style key-value pairs\n",
    "myDictionary['myKey']\n",
    "\n",
    "# module-style functions and variables\n",
    "myModule.myFunction()\n",
    "myModule.myVariable\n",
    "\n",
    "# class-style methods and attributes\n",
    "myObject.myMethod()\n",
    "myObject.myAttribute"
   ]
  },
  {
   "cell_type": "markdown",
   "metadata": {},
   "source": [
    "## Delegation\n",
    "\n",
    "- So you Don't Repeat Yourself (DRY), let each Class do what it knows best\n",
    "- Use a general or abstract base Class with common Methods and Attributes\n",
    "- Create more specific concrete Classes that use the base Class\n",
    "  - Reuse the common Methods and Attributes via 'delegation'\n",
    "  - Add or redefine Methods and Attributes that are unique\n",
    "- Delegation can be accomplished via 'Inheritance' or 'Composition'\n",
    "\n",
    "Example of Delegation: \n",
    "\n",
    "- \"Rich guy IS A Gardener and a Driver\" vs. \"Rich guy HAS A Gardener and a Driver\"\n",
    "- if Rich Guy Inherits from Gardener and Driver, he can do EVERYTHING that a Gardener and Driver can do.\n",
    "- if you only want Rich Guy to be able to do SOME of what Gardener or Driver can do, then use Composition.\n"
   ]
  },
  {
   "cell_type": "markdown",
   "metadata": {},
   "source": [
    "### Inheritance\n",
    "\n",
    "- Specific object \"is a\" generic object. (Apple is a fruit)\n",
    "- Child *inherits* **ALL** Methods and Attributes from all (1, 2 or more) parents and from *their* parents"
   ]
  },
  {
   "cell_type": "code",
   "execution_count": 26,
   "metadata": {},
   "outputs": [],
   "source": [
    "class Animal(object):\n",
    "    \"\"\"This is an Animal class.\n",
    "\n",
    "    __init__ sets the kingdom attribute.\n",
    "\n",
    "    Attributes:\n",
    "        kingdom (str): a string indicating the kingdom of the animal.\n",
    "    \"\"\"\n",
    "\n",
    "    def __init__(self):\n",
    "        self.kingdom = 'Animalia'\n",
    "\n",
    "class Lion(Animal):\n",
    "    \"\"\"This is a Lion class.\n",
    "\n",
    "    __init__ sets the attributes\n",
    "\n",
    "    Attributes:\n",
    "        genus (str): a string indicating the genus\n",
    "        species (str): a string indicating the species\n",
    "        has_mane (bool): a boolean indicating if it has a mane\n",
    "    \"\"\"\n",
    "    def __init__(self):\n",
    "        super(Lion, self).__init__()\n",
    "        self.genus = 'Panthera'\n",
    "        self.species = 'Tigris'\n",
    "        self.has_mane = True\n",
    "\n",
    "    def says(self):\n",
    "        \"\"\" prints what it says\n",
    "        \"\"\"\n",
    "\n",
    "        print('Roar')\n",
    "\n",
    "class Tiger(Animal):\n",
    "    \"\"\"This is a Tiger class.\n",
    "\n",
    "    __init__ sets the attributes\n",
    "\n",
    "    Attributes:\n",
    "        genus (str): a string indicating the genus\n",
    "        species (str): a string indicating the species\n",
    "        has_stripes (bool): a boolean indicating if it has stripes\n",
    "    \"\"\"\n",
    "    def __init__(self):\n",
    "        super(Tiger, self).__init__()\n",
    "        self.genus = 'Panthera'\n",
    "        self.species = 'Leo'\n",
    "        self.has_stripes = True\n",
    "\n",
    "    def says(self):\n",
    "        \"\"\" prints what it says\n",
    "        \"\"\"\n",
    "\n",
    "        print('Grr')\n",
    "\n",
    "# Multiple Inheritance!\n",
    "class Liger(Lion, Tiger):\n",
    "    \"\"\"This is a Liger class.\n",
    "\n",
    "    __init__ sets the attributes\n",
    "\n",
    "    Attributes:\n",
    "        species (str): a string indicating the species\n",
    "    \"\"\"\n",
    "    def __init__(self):\n",
    "        super(Liger, self).__init__()\n",
    "        self.species = 'Leo x Tigris'\n",
    "\n",
    "    def says(self):\n",
    "        \"\"\" prints what it says\n",
    "        \"\"\"\n",
    "\n",
    "        print('Grroar?')"
   ]
  },
  {
   "cell_type": "code",
   "execution_count": 27,
   "metadata": {},
   "outputs": [
    {
     "name": "stdout",
     "output_type": "stream",
     "text": [
      "True\n",
      "Panthera\n",
      "Animalia\n",
      "True\n",
      "Grroar?\n"
     ]
    }
   ],
   "source": [
    "hercules = Liger()\n",
    "\n",
    "# Access attributes of Lion Class\n",
    "print(hercules.has_mane)\n",
    "print(hercules.genus)\n",
    "\n",
    "# Access attribute of Animal Class (via Lion Class)\n",
    "print(hercules.kingdom)\n",
    "\n",
    "# Access attribute of Tiger Class\n",
    "print(hercules.has_stripes)\n",
    "\n",
    "# Access overloaded method of Liger Class\n",
    "hercules.says()"
   ]
  },
  {
   "cell_type": "markdown",
   "metadata": {},
   "source": [
    "### Composition\n",
    "\n",
    "- New Object \"has an\" Other Object that does some of its work\n",
    "- New Object gets **ONLY** the methods that are explicitly mapped from the Other Object's class\n",
    "- As an example, based on [Ex44][4], we will walk through `sample/core.py`, `mine.py`, and `mymain.py` in this repo.\n",
    "- Before we dive in, consider `sample/core.py` a module that someone gives you:\n",
    "\n",
    "[4]: https://learnpythonthehardway.org/book/ex44.html"
   ]
  },
  {
   "cell_type": "markdown",
   "metadata": {
    "collapsed": true
   },
   "source": [
    "```python\n",
    "### Start sample/core.py\n",
    "class Song(object):\n",
    "\n",
    "    def __init__(self, lyrics):\n",
    "        self.lyrics = lyrics\n",
    "\n",
    "    def sing_me_a_song(self):\n",
    "        \"\"\" print song lyrics\n",
    "        \"\"\"\n",
    "        for line in self.lyrics:\n",
    "            print(line)\n",
    "\n",
    "    def get_character_count(self):\n",
    "        \"\"\" count characters in lyrics\n",
    " \n",
    "        :return: character count [int]\n",
    "        \"\"\"\n",
    "        character_count = 0\n",
    "        for line in self.lyrics:\n",
    "            character_count = character_count + len(line)\n",
    "        return character_count\n",
    "\n",
    "    def make_upper(self):\n",
    "        \"\"\" make lyrics all uppercase\n",
    "        \"\"\"\n",
    "        for idx, line in enumerate(self.lyrics):\n",
    "            self.lyrics[idx] = line.upper()\n",
    "### End sample/core.py\n",
    "```"
   ]
  },
  {
   "cell_type": "markdown",
   "metadata": {},
   "source": [
    "- Try the methods given:"
   ]
  },
  {
   "cell_type": "code",
   "execution_count": 28,
   "metadata": {},
   "outputs": [
    {
     "name": "stdout",
     "output_type": "stream",
     "text": [
      "They rally around the family\n",
      "With a pocket full of shells\n",
      "56\n",
      "THEY RALLY AROUND THE FAMILY\n",
      "WITH A POCKET FULL OF SHELLS\n"
     ]
    }
   ],
   "source": [
    "import sample.core\n",
    "\n",
    "# Use the provided class\n",
    "bulls_on_parade = sample.core.Song([\"They rally around the family\",\n",
    "                                    \"With a pocket full of shells\"])\n",
    "\n",
    "bulls_on_parade.sing_me_a_song()\n",
    "\n",
    "print(bulls_on_parade.get_character_count())\n",
    "\n",
    "bulls_on_parade.make_upper()\n",
    "bulls_on_parade.sing_me_a_song()"
   ]
  },
  {
   "cell_type": "markdown",
   "metadata": {},
   "source": [
    "- We want to extend the features of that Class without touching the code given to us.\n",
    "- We can use Inheritance or Composition to put new features in a derived Class.\n",
    "- Why not Inheritance (this time)?\n",
    "  - Let's say we want explicit control over which Methods are exposed in new Class and want to leave one out.\n",
    "  - Also, Inheritance can get rather complicated in big projects, multiple layers of Classes, and/or multiple parents.\n",
    "- So here is our new Class, saved in the `mine.py` module, which creates a Song Object as its Attribute, using Composition:"
   ]
  },
  {
   "cell_type": "markdown",
   "metadata": {},
   "source": [
    "```python\n",
    "### Start mine.py\n",
    "import sample.core\n",
    "\n",
    "class mySong(object):\n",
    "    \"\"\"This is a mySong class.\n",
    "\n",
    "    __init__ sets the song attribute.\n",
    "\n",
    "    Attributes:\n",
    "        song (Song): a song of Class Song from the sample.core module\n",
    "\n",
    "    \"\"\"\n",
    "\n",
    "    def __init__(self, lyrics):\n",
    "        #self.song = sample.core.Song(lyrics)\n",
    "        self.song = Song(lyrics)\n",
    "\n",
    "    # Redefine this method, adding exclamation points to each line!\n",
    "    def sing_me_a_song(self):\n",
    "        \"\"\" print song lyrics\n",
    "        \"\"\"\n",
    "        for line in self.song.lyrics:\n",
    "            print(line+\"!\")\n",
    "\n",
    "    # Pass this method through unchanged\n",
    "    def get_character_count(self):\n",
    "        \"\"\" count characters in lyrics\n",
    "\n",
    "        :return: character count [int]\n",
    "        \"\"\"\n",
    "        return self.song.get_character_count()\n",
    "### End mine.py\n",
    "```"
   ]
  },
  {
   "cell_type": "markdown",
   "metadata": {},
   "source": [
    "- Notice we didn't expose the `make_upper()` Method.\n",
    "- Try using the methods of our composed Class (as done in the `mymain.py` script):"
   ]
  },
  {
   "cell_type": "code",
   "execution_count": 29,
   "metadata": {},
   "outputs": [
    {
     "name": "stdout",
     "output_type": "stream",
     "text": [
      "Happy birthday to you!\n",
      "I don't want to get sued!\n",
      "So I'll stop right there!\n",
      "69\n",
      "Didn't pass that method through in new class: 'mySong' object has no attribute 'make_upper'\n"
     ]
    }
   ],
   "source": [
    "import mine\n",
    "\n",
    "# Use our custom class utilizing Composition\n",
    "happy_bday = mine.mySong([\"Happy birthday to you\",\n",
    "                          \"I don't want to get sued\",\n",
    "                          \"So I'll stop right there\"])\n",
    "\n",
    "# Use overloaded method\n",
    "happy_bday.sing_me_a_song()\n",
    "\n",
    "# Use method that was passed through\n",
    "print(happy_bday.get_character_count())\n",
    "\n",
    "# Try the method which was not passed through\n",
    "try:\n",
    "    happy_bday.make_upper()\n",
    "# NOTE: new syntax!\n",
    "except AttributeError as err:\n",
    "    print(\"Didn't pass that method through in new class: {0}\".format(err))"
   ]
  },
  {
   "cell_type": "markdown",
   "metadata": {},
   "source": [
    "## Resources\n",
    "* https://realpython.com/blog/python/python3-object-oriented-programming/\n",
    "* See a good Lynda.com tutorial on [Python 3 Essentials][5]\n",
    "\n",
    "[5]: https://www.lynda.com/Python-tutorials/Understanding-classes-objects/62226/70985-4.html"
   ]
  },
  {
   "cell_type": "markdown",
   "metadata": {},
   "source": [
    "Copyright (C) 2016 David Bradway (modified by Mark Palmeri)"
   ]
  }
 ],
 "metadata": {
  "anaconda-cloud": {},
  "kernelspec": {
   "display_name": "Python 3",
   "language": "python",
   "name": "python3"
  },
  "language_info": {
   "codemirror_mode": {
    "name": "ipython",
    "version": 3
   },
   "file_extension": ".py",
   "mimetype": "text/x-python",
   "name": "python",
   "nbconvert_exporter": "python",
   "pygments_lexer": "ipython3",
   "version": "3.5.2"
  }
 },
 "nbformat": 4,
 "nbformat_minor": 1
}
