{
 "cells": [
  {
   "cell_type": "markdown",
   "metadata": {},
   "source": [
    "# Property Decorators\n",
    "\n",
    "This notebook describes two useful Python constructs:\n",
    "1. Decorators\n",
    "2. The specific Property Decorator\n",
    "\n",
    "Decorators are ways to modify a function, method or class definition without having to have lots of cumbersome code.  They are a bit of Python \"magic\", and can make code readability more difficult until you get the hang of what they do, which we'll do in the context of setting an attribute and calling a method based on that attribute's value."
   ]
  },
  {
   "cell_type": "markdown",
   "metadata": {},
   "source": [
    "## Setters & Getters\n",
    "Sometimes instead of an attitube getting a \"simple\" assignment, we need to impose some more complex logic or conditions.  For example, lets look at a class that has an attribute that connot be negative, and we would like to map negative input values to be positive."
   ]
  },
  {
   "cell_type": "code",
   "execution_count": 7,
   "metadata": {},
   "outputs": [],
   "source": [
    "class NoNegSetGet():\n",
    "    \n",
    "    def __init__(self, a):\n",
    "        self.set_a(a)\n",
    "\n",
    "    def get_a(self):\n",
    "        return self.__a\n",
    "\n",
    "    def set_a(self, a):\n",
    "        \"\"\"make sure that a is >= 0\n",
    "        \"\"\"\n",
    "        if a < 0:\n",
    "            self.__a = -a\n",
    "        else:\n",
    "            self.__a = a"
   ]
  },
  {
   "cell_type": "code",
   "execution_count": 22,
   "metadata": {},
   "outputs": [
    {
     "name": "stdout",
     "output_type": "stream",
     "text": [
      "5\n",
      "5\n",
      "10\n"
     ]
    }
   ],
   "source": [
    "tp = NoNegSetGet(a=5)\n",
    "print(tp.get_a())\n",
    "tn = NoNegSetGet(a=-5)\n",
    "print(tn.get_a())\n",
    "print(tp.get_a()+tn.get_a())"
   ]
  },
  {
   "cell_type": "markdown",
   "metadata": {},
   "source": [
    "**Yuck.**  We cannot use a nice syntax like for our summation like `tp.a + tn.a`.\n",
    "\n",
    "## @property Decorator\n",
    "\n",
    "What we would really like to do is associate the \"set\" and \"get\" functions with our attribute `a`.  Since this is a common task in programming, Python has a built-in `@property` decorator to help us do this."
   ]
  },
  {
   "cell_type": "code",
   "execution_count": 28,
   "metadata": {},
   "outputs": [],
   "source": [
    "class NoNegProperty:\n",
    "\n",
    "    def __init__(self, a, b): \n",
    "        self.a = a \n",
    "        self.b = b \n",
    "        self.is_a_positive = None\n",
    "        self.test_if_a_positive()\n",
    "\n",
    "    @property\n",
    "    def a(self):\n",
    "        return self.__a\n",
    "\n",
    "    @a.setter\n",
    "    def a(self, a): \n",
    "        if a < 0:\n",
    "            self.__a = -a\n",
    "        else:\n",
    "            self.__a = a \n",
    "        self.test_if_a_positive()\n",
    "\n",
    "    def test_if_a_positive(self):\n",
    "        if self.__a > 0:\n",
    "            self.is_a_positive = True\n",
    "        else:\n",
    "            self.is_a_positive = False\n"
   ]
  },
  {
   "cell_type": "code",
   "execution_count": 40,
   "metadata": {},
   "outputs": [
    {
     "name": "stdout",
     "output_type": "stream",
     "text": [
      "5\n",
      "6\n"
     ]
    }
   ],
   "source": [
    "cp = NoNegProperty(a=5, b=6)\n",
    "print(cp.a)\n",
    "print(cp.b)"
   ]
  },
  {
   "cell_type": "code",
   "execution_count": 41,
   "metadata": {},
   "outputs": [
    {
     "name": "stdout",
     "output_type": "stream",
     "text": [
      "5\n",
      "10\n"
     ]
    }
   ],
   "source": [
    "# lets pass in -5 for the value of a and see what we get\n",
    "cn = NoNegProperty(a=-5, b=6)\n",
    "print(cn.a)\n",
    "s = cp.a + cn.a\n",
    "print(s)"
   ]
  },
  {
   "cell_type": "markdown",
   "metadata": {},
   "source": [
    "Notice the much cleaner code and attribute syntax in the object usage.  We can also couple method execution to the setting of the attribute, in this case `test_if_a_positive()`."
   ]
  },
  {
   "cell_type": "code",
   "execution_count": 36,
   "metadata": {},
   "outputs": [
    {
     "data": {
      "text/plain": [
       "True"
      ]
     },
     "execution_count": 36,
     "metadata": {},
     "output_type": "execute_result"
    }
   ],
   "source": [
    "t1 = NoNegProperty(a=5, b=6)\n",
    "t1.is_a_positive"
   ]
  },
  {
   "cell_type": "code",
   "execution_count": 39,
   "metadata": {},
   "outputs": [
    {
     "name": "stdout",
     "output_type": "stream",
     "text": [
      "5\n"
     ]
    },
    {
     "data": {
      "text/plain": [
       "True"
      ]
     },
     "execution_count": 39,
     "metadata": {},
     "output_type": "execute_result"
    }
   ],
   "source": [
    "t2 = NoNegProperty(a=-5, b=6)\n",
    "print(t2.a)\n",
    "t2.is_a_positive"
   ]
  }
 ],
 "metadata": {
  "kernelspec": {
   "display_name": "Python 3",
   "language": "python",
   "name": "python3"
  },
  "language_info": {
   "codemirror_mode": {
    "name": "ipython",
    "version": 3
   },
   "file_extension": ".py",
   "mimetype": "text/x-python",
   "name": "python",
   "nbconvert_exporter": "python",
   "pygments_lexer": "ipython3",
   "version": "3.5.2"
  }
 },
 "nbformat": 4,
 "nbformat_minor": 2
}
